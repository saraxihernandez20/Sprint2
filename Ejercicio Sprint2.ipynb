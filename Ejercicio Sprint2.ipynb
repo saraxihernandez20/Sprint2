{
 "cells": [
  {
   "cell_type": "code",
   "execution_count": 53,
   "id": "4170196a",
   "metadata": {},
   "outputs": [
    {
     "name": "stdout",
     "output_type": "stream",
     "text": [
      "29\n"
     ]
    }
   ],
   "source": [
    "import csv\n",
    "with open ('sara.csv')as csvfile:\n",
    "    csv_reader = csv.reader (csvfile, delimiter=',')\n",
    "    count = 0    # crea contador de iteraador (for) en 0 valor inicial\n",
    "    count_trips = 0    #Crea contador de viajes filtrados \n",
    "    taxi_ids = []    # Lista de taxis que YA han hecho un viaje dentro de params\n",
    "    for row in csv_reader:      #para variable=1 fila -> dentro del documento importado\n",
    "        count = count + 1      # Sumar 1 al contador de iterador = total de filas recorridas del documento importado \n",
    "        #print(row[14])    #\n",
    "        if count > 1 and count < 440:   # Para que no lea titulo = counter equals 1 y linea 440 tiene error, debe ser el counter < 440 - llega hasta 439\n",
    "            # 1. Los valores de la fila = str (cadena de texto), pero los necesito en float (1.23)\n",
    "            # casting = tipo de dato str -> float = str(value) - int() - float()\n",
    "            # cuando el numero esta en float ( float(string) ) \n",
    "            # para saber si es mayor que 20 euros, tomo el valor en float(str) > mayor que - 20 (euros)\n",
    "            # and sumar otra regla condicional (and ambas condiciones se cumplen), or se cumple cualquiera de las condiciones, ! si no se cumple\n",
    "            # columna triptotal MAYOR QUE 20 Y triptotal MENOR QUE 44 y PAYMENT_TYPE == Credit Card\n",
    "            if float (row[14]) > 20 and float (row[14]) < 44 and row [15] == \"Credit Card\":\n",
    "                # Toda iteracion que llegue hasta aca ya està filtrada\n",
    "                if row [1] not in taxi_ids:      # SI taxi_id NO ESTÀ DENTRO DE lista taxis_id \n",
    "                    count_trips = count_trips + 1   # sumar +1 a contador de viajes QUE CUMPLEN LAS REGLAS\n",
    "                taxi_ids.append(row[1])     #Como no esta, lo añadimos (lo contamos una vez)\n",
    "print(count_trips)  #Imprime el contador\n",
    "        \n",
    "        "
   ]
  },
  {
   "cell_type": "code",
   "execution_count": 57,
   "id": "c33e3200",
   "metadata": {},
   "outputs": [
    {
     "name": "stdout",
     "output_type": "stream",
     "text": [
      "238\n"
     ]
    }
   ],
   "source": [
    "import csv\n",
    "with open ('sara.csv')as csvfile:\n",
    "    csv_reader = csv.reader (csvfile, delimiter=',')\n",
    "    count = 0    # crea contador de iteraador (for) en 0 valor inicial\n",
    "    count_trips = 0    #Crea contador de viajes filtrados \n",
    "    taxi_ids = []    # Lista de taxis que YA han hecho un viaje dentro de params\n",
    "    for row in csv_reader:      #para variable=1 fila -> dentro del documento importado\n",
    "        count = count + 1      # Sumar 1 al contador de iterador = total de filas recorridas del documento importado \n",
    "        #print(row[13])    #\n",
    "        if count > 1 and count < 440:   # Para que no lea titulo = counter equals 1 y linea 440 tiene error, debe ser el counter < 440 - llega hasta 439\n",
    "            # 1. Los valores de la fila = str (cadena de texto), pero los necesito en float (1.23)\n",
    "            # casting = tipo de dato str -> float = str(value) - int() - float()\n",
    "            # cuando el numero esta en float ( float(string) ) \n",
    "            # para saber si es mayor que 20 euros, tomo el valor en float(str) > mayor que - 20 (euros)\n",
    "            # and sumar otra regla condicional (and ambas condiciones se cumplen), or se cumple cualquiera de las condiciones, ! si no se cumple\n",
    "            # columna triptotal MENOS QUE 10 Y triptotal MAYOR QUE 60 y PAYMENT_TYPE == CASH\n",
    "            if ( float (row[13]) > 60 or float (row[13]) < 10 )and row [15] == \"Cash\":\n",
    "                # Toda iteracion que llegue hasta aca ya està filtrada\n",
    "                if row [1] not in taxi_ids:      # SI taxi_id NO ESTÀ DENTRO DE lista taxis_id \n",
    "                    count_trips = count_trips + 1   # sumar +1 a contador de viajes QUE CUMPLEN LAS REGLAS\n",
    "                taxi_ids.append(row[1])     #Como no esta, lo añadimos (lo contamos una vez)\n",
    "print(count_trips)  #Imprime el contador"
   ]
  },
  {
   "cell_type": "code",
   "execution_count": null,
   "id": "d84f5e34",
   "metadata": {},
   "outputs": [],
   "source": []
  },
  {
   "cell_type": "code",
   "execution_count": null,
   "id": "56270972",
   "metadata": {},
   "outputs": [],
   "source": []
  },
  {
   "cell_type": "code",
   "execution_count": null,
   "id": "c83557f3",
   "metadata": {},
   "outputs": [],
   "source": []
  }
 ],
 "metadata": {
  "kernelspec": {
   "display_name": "Python 3 (ipykernel)",
   "language": "python",
   "name": "python3"
  },
  "language_info": {
   "codemirror_mode": {
    "name": "ipython",
    "version": 3
   },
   "file_extension": ".py",
   "mimetype": "text/x-python",
   "name": "python",
   "nbconvert_exporter": "python",
   "pygments_lexer": "ipython3",
   "version": "3.9.12"
  }
 },
 "nbformat": 4,
 "nbformat_minor": 5
}
